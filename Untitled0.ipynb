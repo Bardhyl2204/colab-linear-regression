{
  "nbformat": 4,
  "nbformat_minor": 0,
  "metadata": {
    "colab": {
      "provenance": [],
      "authorship_tag": "ABX9TyPVkyUhwe+xvH0wbC3lk0iU",
      "include_colab_link": true
    },
    "kernelspec": {
      "name": "python3",
      "display_name": "Python 3"
    },
    "language_info": {
      "name": "python"
    }
  },
  "cells": [
    {
      "cell_type": "markdown",
      "metadata": {
        "id": "view-in-github",
        "colab_type": "text"
      },
      "source": [
        "<a href=\"https://colab.research.google.com/github/Bardhyl2204/colab-linear-regression/blob/main/Untitled0.ipynb\" target=\"_parent\"><img src=\"https://colab.research.google.com/assets/colab-badge.svg\" alt=\"Open In Colab\"/></a>"
      ]
    },
    {
      "cell_type": "code",
      "execution_count": 19,
      "metadata": {
        "colab": {
          "base_uri": "https://localhost:8080/",
          "height": 576
        },
        "id": "5aXm0IcdWIZb",
        "outputId": "23237f4b-0713-4474-cb36-ad258fa8010b"
      },
      "outputs": [
        {
          "output_type": "stream",
          "name": "stdout",
          "text": [
            "   hours  score\n",
            "0      1     35\n",
            "1      2     40\n",
            "2      3     50\n",
            "3      4     55\n",
            "4      5     65\n"
          ]
        },
        {
          "output_type": "display_data",
          "data": {
            "text/plain": [
              "<Figure size 640x480 with 1 Axes>"
            ],
            "image/png": "[encoded data removed]"
          },
          "metadata": {}
        }
      ],
      "source": [
        "# 📌 Machine Learning - Parashikimi i notave në bazë të orëve të studimit\n",
        "\n",
     
        "import pandas as pd\n",
        "import numpy as np\n",
        "import matplotlib.pyplot as plt\n",
        "from sklearn.model_selection import train_test_split\n",
        "from sklearn.linear_model import LinearRegression\n",
        "from sklearn.metrics import mean_squared_error\n",
        "\n",
      
        "data = {\n",
        "    'hours': [1, 2, 3, 4, 5, 6, 7, 8, 9],\n",
        "    'score': [35, 40, 50, 55, 65, 70, 75, 85, 90]\n",
        "}\n",
        "df = pd.DataFrame(data)\n",
        "\n",
        "# Shfaq 5 rreshtat e parë\n",
        "print(df.head())\n",
       
        "plt.scatter(df['hours'], df['score'], color='blue')\n",
        "plt.xlabel('Orët e Studimit')\n",
        "plt.ylabel('Nota')\n",
        "plt.title('Orët e Studimit vs Nota')\n",
        "plt.grid(True)\n",
        "plt.show()\n",
        "\n",
        "\n"
      ]
    },
    {
      "cell_type": "code",
      "source": [
        "# Ndarja e të dhënave në train (80%) dhe test (20%)\n",
        "X = df[['hours']]  # Input (variabla e pavarur)\n",
        "y = df['score']    # Output (variabla e varur)\n",
        "\n",
        "X_train, X_test, y_train, y_test = train_test_split(X, y, test_size=0.2, random_state=42)\n",
        "\n",
        "# Kontrollo madhësinë e pjesëve\n",
        "print(\"Train set:\", len(X_train), \"shembuj\")\n",
        "print(\"Test set:\", len(X_test), \"shembuj\")\n",
        "\n",
        "\n",
        "\n"
      ],
      "metadata": {
        "colab": {
          "base_uri": "https://localhost:8080/"
        },
        "id": "dCXsOYVjXuJn",
        "outputId": "4a2eb4d3-c562-4143-f244-63c62578bb74"
      },
      "execution_count": 7,
      "outputs": [
        {
          "output_type": "stream",
          "name": "stdout",
          "text": [
            "Train set: 7 shembuj\n",
            "Test set: 2 shembuj\n"
          ]
        }
      ]
    },
    {
      "cell_type": "code",
      "source": [
       
        "model = LinearRegression()\n",
        "model.fit(X_train, y_train)\n",
        "\n",
       
        "print(f\"Koeficienti (m): {model.coef_[0]:.2f}\")\n",
        "print(f\"Intercepti (b): {model.intercept_:.2f}\")\n"
      ],
      "metadata": {
        "colab": {
          "base_uri": "https://localhost:8080/"
        },
        "id": "PFRtU_KaYA_0",
        "outputId": "bc391a13-f6ac-416a-9b78-d12e531bf0d3"
      },
      "execution_count": 8,
      "outputs": [
        {
          "output_type": "stream",
          "name": "stdout",
          "text": [
            "Koeficienti (m): 6.79\n",
            "Intercepti (b): 28.93\n"
          ]
        }
      ]
    },
    {
      "cell_type": "code",
      "source": [
        "from sklearn.metrics import mean_squared_error\n",
        "\n",
    
        "y_pred = model.predict(X_test)\n",
        "\n",
        "print(\"Vlerat reale:\", y_test.values)\n",
        "print(\"Vlerat e parashikuara:\", y_pred)\n",
        "\n",
       
        "mse = mean_squared_error(y_test, y_pred)\n",
        "print(f\"Gabimi mesatar katror (MSE): {mse:.2f}\")\n"
      ],
      "metadata": {
        "colab": {
          "base_uri": "https://localhost:8080/"
        },
        "id": "Bza03tl_YO0L",
        "outputId": "8a326d9e-ef7e-4d32-935a-132f9875235b"
      },
      "execution_count": 9,
      "outputs": [
        {
          "output_type": "stream",
          "name": "stdout",
          "text": [
            "Vlerat reale: [85 40]\n",
            "Vlerat e parashikuara: [83.21428571 42.5       ]\n",
            "Gabimi mesatar katror (MSE): 4.72\n"
          ]
        }
      ]
    },
    {
      "cell_type": "code",
      "source": [
        "# Parashiko notën për 7 orë studim\n",
        "ora_terheq = 7.0\n",
        "parashikim = model.predict([[ora_terheq]])\n",
        "print(f\"Parashikimi për {ora_terheq} orë studim është: {parashikim[0]:.2f} pikë\")\n",
        "from sklearn.metrics import r2_score\n",
        "\n",
        "\n"
      ],
      "metadata": {
        "colab": {
          "base_uri": "https://localhost:8080/"
        },
        "id": "4tBcAbBFYcqM",
        "outputId": "47b3a3ee-4552-4c5a-8936-7cf01d0b424a"
      },
      "execution_count": 18,
      "outputs": [
        {
          "output_type": "stream",
          "name": "stdout",
          "text": [
            "Parashikimi për 7.0 orë studim është: 76.43 pikë\n"
          ]
        },
        {
          "output_type": "stream",
          "name": "stderr",
          "text": [
            "/usr/local/lib/python3.11/dist-packages/sklearn/utils/validation.py:2739: UserWarning: X does not have valid feature names, but LinearRegression was fitted with feature names\n",
            "  warnings.warn(\n"
          ]
        }
      ]
    },
    {
      "cell_type": "code",
      "source": [
        "from sklearn.metrics import r2_score\n",
        "\n",
        "r2 = r2_score(y_test, y_pred)\n",
        "print(f\"R² score i modelit: {r2:.2f}\")\n"
      ],
      "metadata": {
        "colab": {
          "base_uri": "https://localhost:8080/"
        },
        "id": "6zllrn4yYl0V",
        "outputId": "3e78a985-9497-4f28-ce9f-74a3dae80fee"
      },
      "execution_count": 15,
      "outputs": [
        {
          "output_type": "stream",
          "name": "stdout",
          "text": [
            "R² score i modelit: 0.99\n"
          ]
        }
      ]
    }
  ]
}
